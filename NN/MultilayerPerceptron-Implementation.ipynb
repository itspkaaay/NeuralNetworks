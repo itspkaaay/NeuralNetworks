{
 "cells": [
  {
   "cell_type": "code",
   "execution_count": 14,
   "metadata": {},
   "outputs": [],
   "source": [
    "import numpy as np;"
   ]
  },
  {
   "cell_type": "code",
   "execution_count": 22,
   "metadata": {},
   "outputs": [],
   "source": [
    "# initialising a MLP\n",
    "def softmax(argument):\n",
    "    numerator= np.exp(argument);\n",
    "    denominator= np.sum(numerator);\n",
    "    return numerator/denominator;\n",
    "class Neural_Network:\n",
    "    def __init__(self,input_size,layers,output):\n",
    "        #np.random.seed(0);\n",
    "        self.input_size= input_size;\n",
    "        self.layers= layers;\n",
    "        self.output=output;\n",
    "        model={};\n",
    "        for i in range(1,len(layers)+2):\n",
    "            if(i==1):\n",
    "                model[\"Weight\"+str(i)]= np.random.randn(input_size,layers[0]);\n",
    "            elif(i== len(layers)+1):\n",
    "                model[\"Weight\"+str(i)]= np.random.randn(layers[len(layers)-1],output);\n",
    "            else:\n",
    "                model[\"Weight\"+str(i)]= np.random.randn(layers[i-2],layers[i-1]);\n",
    "          \n",
    "        for i in range(len(layers)+1):\n",
    "            if i==len(layers):\n",
    "                model[\"Bias\"+str(i+1)]= np.zeros((1,output));\n",
    "            else:\n",
    "                model[\"Bias\"+str(i+1)]= np.zeros((1,layers[i]));\n",
    "        self.model= model;\n",
    "        \n",
    "    def feed_forward(self,inp):\n",
    "        #output;\n",
    "        num_w_b= len(self.model.keys())//2;\n",
    "        to_feed_layer=inp\n",
    "        print(to_feed_layer);\n",
    "        for i in range(1,num_w_b+1):\n",
    "            if i== num_w_b:\n",
    "                output= softmax(np.sum(to_feed_layer*self.model[\"Weight\"+str(i)],axis=0)+self.model[\"Bias\"+str(i)]);\n",
    "                print(\"output-\",output);\n",
    "                return output;\n",
    "            to_feed_layer= np.tanh(np.sum(to_feed_layer*self.model[\"Weight\"+str(i)],axis=0)+self.model[\"Bias\"+str(i)]).T;\n",
    "            print(\"HLAYER \",i,\":\", to_feed_layer);"
   ]
  },
  {
   "cell_type": "code",
   "execution_count": 35,
   "metadata": {},
   "outputs": [],
   "source": [
    "n1= Neural_Network(3,[4,10],2);\n",
    "inp= np.array([[2],[4],[3]]);\n"
   ]
  },
  {
   "cell_type": "code",
   "execution_count": 36,
   "metadata": {},
   "outputs": [
    {
     "name": "stdout",
     "output_type": "stream",
     "text": [
      "[[2]\n",
      " [4]\n",
      " [3]]\n",
      "HLAYER  1 : [[ 0.99999514]\n",
      " [ 0.95956038]\n",
      " [-0.99691071]\n",
      " [-0.99999989]]\n",
      "HLAYER  2 : [[-0.49800656]\n",
      " [-0.99018672]\n",
      " [-0.06755471]\n",
      " [-0.99878622]\n",
      " [-0.32166191]\n",
      " [-0.14875203]\n",
      " [-0.99121636]\n",
      " [-0.95875117]\n",
      " [ 0.95968936]\n",
      " [-0.94817062]]\n",
      "output- [[0.94847573 0.05152427]]\n"
     ]
    }
   ],
   "source": [
    "n1.feed_forward(inp);"
   ]
  },
  {
   "cell_type": "code",
   "execution_count": 37,
   "metadata": {},
   "outputs": [
    {
     "name": "stdout",
     "output_type": "stream",
     "text": [
      "[[1]\n",
      " [1]\n",
      " [1]]\n",
      "HLAYER  1 : [[ 0.98249926]\n",
      " [ 0.83322089]\n",
      " [-0.88470331]\n",
      " [-0.99647139]]\n",
      "HLAYER  2 : [[-0.60759716]\n",
      " [-0.98500599]\n",
      " [-0.11142798]\n",
      " [-0.99688371]\n",
      " [-0.56469484]\n",
      " [-0.02956722]\n",
      " [-0.98820963]\n",
      " [-0.9480146 ]\n",
      " [ 0.94177003]\n",
      " [-0.93052183]]\n",
      "output- [[0.95533834 0.04466166]]\n"
     ]
    }
   ],
   "source": [
    "inp= np.array([[1],[1],[1]]);\n",
    "n1.feed_forward(inp);"
   ]
  },
  {
   "cell_type": "code",
   "execution_count": null,
   "metadata": {},
   "outputs": [],
   "source": []
  }
 ],
 "metadata": {
  "kernelspec": {
   "display_name": "Python 3",
   "language": "python",
   "name": "python3"
  },
  "language_info": {
   "codemirror_mode": {
    "name": "ipython",
    "version": 3
   },
   "file_extension": ".py",
   "mimetype": "text/x-python",
   "name": "python",
   "nbconvert_exporter": "python",
   "pygments_lexer": "ipython3",
   "version": "3.7.6"
  }
 },
 "nbformat": 4,
 "nbformat_minor": 4
}
